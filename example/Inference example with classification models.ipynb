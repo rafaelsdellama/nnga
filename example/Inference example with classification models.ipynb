{
 "cells": [
  {
   "cell_type": "code",
   "execution_count": 1,
   "metadata": {},
   "outputs": [],
   "source": [
    "from nnga.inference.predictor import Predictor\n",
    "from nnga.utils.data_io import load_image\n",
    "import pandas as pd\n",
    "\n",
    "nnga_dir = \"\" # Set the nnga path here"
   ]
  },
  {
   "cell_type": "markdown",
   "metadata": {},
   "source": [
    "### MLP"
   ]
  },
  {
   "cell_type": "code",
   "execution_count": 2,
   "metadata": {},
   "outputs": [],
   "source": [
    "model_dir = nnga_dir + \"/tests/testdata/models/mlp_feature_GASearch\"\n",
    "test_data = nnga_dir + \"/tests/testdata/datasets/mnist/features.csv\"\n",
    "\n",
    "nnga_predictor = Predictor(model_dir)"
   ]
  },
  {
   "cell_type": "code",
   "execution_count": 3,
   "metadata": {},
   "outputs": [],
   "source": [
    "df_test = pd.read_csv(test_data)"
   ]
  },
  {
   "cell_type": "code",
   "execution_count": 4,
   "metadata": {},
   "outputs": [
    {
     "name": "stdout",
     "output_type": "stream",
     "text": [
      "pred: [0]\n",
      "decode: {0: '0', 1: '1', 2: '2', 3: '3', 4: '4', 5: '5', 6: '6', 7: '7', 8: '8', 9: '9'}\n",
      "pred: [[8.08813632e-01 1.00284204e-04 1.10804290e-01 3.58143286e-03\n",
      "  3.89119377e-03 5.77373477e-03 1.84477703e-03 5.54737858e-02\n",
      "  9.33256559e-03 3.84359359e-04]]\n",
      "decode: {0: '0', 1: '1', 2: '2', 3: '3', 4: '4', 5: '5', 6: '6', 7: '7', 8: '8', 9: '9'}\n"
     ]
    }
   ],
   "source": [
    "pred, decode = nnga_predictor.predict([df_test.iloc[0].drop(['class', 'id']).values])\n",
    "print(f\"pred: {pred}\")\n",
    "print(f\"decode: {decode}\")\n",
    "\n",
    "pred, decode = nnga_predictor.predict_proba([df_test.iloc[0].drop(['class', 'id']).values])\n",
    "print(f\"pred: {pred}\")\n",
    "print(f\"decode: {decode}\")"
   ]
  },
  {
   "cell_type": "markdown",
   "metadata": {},
   "source": [
    "### CNN"
   ]
  },
  {
   "cell_type": "code",
   "execution_count": 5,
   "metadata": {},
   "outputs": [],
   "source": [
    "model_dir = nnga_dir + \"/tests/testdata/models/cnn_GASearch\"\n",
    "test_img = nnga_dir + \"/tests/testdata/datasets/mnist/0/3.png\"\n",
    "\n",
    "nnga_predictor = Predictor(model_dir)"
   ]
  },
  {
   "cell_type": "code",
   "execution_count": 6,
   "metadata": {},
   "outputs": [],
   "source": [
    "img = load_image(test_img)"
   ]
  },
  {
   "cell_type": "code",
   "execution_count": 7,
   "metadata": {},
   "outputs": [
    {
     "name": "stdout",
     "output_type": "stream",
     "text": [
      "pred: [0]\n",
      "decode: {0: '0', 1: '1', 2: '2', 3: '3', 4: '4', 5: '5', 6: '6', 7: '7', 8: '8', 9: '9'}\n",
      "pred: [[0.21876639 0.09844122 0.11358953 0.03906021 0.08740696 0.09285973\n",
      "  0.1796735  0.03245101 0.11302485 0.0247265 ]]\n",
      "decode: {0: '0', 1: '1', 2: '2', 3: '3', 4: '4', 5: '5', 6: '6', 7: '7', 8: '8', 9: '9'}\n"
     ]
    }
   ],
   "source": [
    "pred, decode = nnga_predictor.predict([img])\n",
    "print(f\"pred: {pred}\")\n",
    "print(f\"decode: {decode}\")\n",
    "\n",
    "pred, decode = nnga_predictor.predict_proba([img])\n",
    "print(f\"pred: {pred}\")\n",
    "print(f\"decode: {decode}\")"
   ]
  },
  {
   "cell_type": "markdown",
   "metadata": {},
   "source": [
    "### CNN/MLP"
   ]
  },
  {
   "cell_type": "code",
   "execution_count": 8,
   "metadata": {},
   "outputs": [],
   "source": [
    "model_dir = nnga_dir + \"/tests/testdata/models/cnn_mlp_feature_GASearch\"\n",
    "test_data = nnga_dir + \"/tests/testdata/datasets/mnist/features.csv\"\n",
    "test_img = nnga_dir + \"/tests/testdata/datasets/mnist/0/3.png\"\n",
    "\n",
    "nnga_predictor = Predictor(model_dir)"
   ]
  },
  {
   "cell_type": "code",
   "execution_count": 9,
   "metadata": {},
   "outputs": [],
   "source": [
    "df_test = pd.read_csv(test_data)\n",
    "img = load_image(test_img)"
   ]
  },
  {
   "cell_type": "code",
   "execution_count": 10,
   "metadata": {},
   "outputs": [
    {
     "name": "stdout",
     "output_type": "stream",
     "text": [
      "pred: [0]\n",
      "decode: {0: '0', 1: '1', 2: '2', 3: '3', 4: '4', 5: '5', 6: '6', 7: '7', 8: '8', 9: '9'}\n",
      "pred: [[0.4180322  0.01614856 0.07474989 0.09450788 0.02414823 0.1807789\n",
      "  0.06195848 0.02109039 0.07557315 0.03301236]]\n",
      "decode: {0: '0', 1: '1', 2: '2', 3: '3', 4: '4', 5: '5', 6: '6', 7: '7', 8: '8', 9: '9'}\n"
     ]
    }
   ],
   "source": [
    "pred, decode = nnga_predictor.predict([[df_test.iloc[0].drop(['class', 'id']).values, img]])\n",
    "print(f\"pred: {pred}\")\n",
    "print(f\"decode: {decode}\")\n",
    "\n",
    "pred, decode = nnga_predictor.predict_proba([(df_test.iloc[0].drop(['class', 'id']).values, img)])\n",
    "print(f\"pred: {pred}\")\n",
    "print(f\"decode: {decode}\")"
   ]
  },
  {
   "cell_type": "code",
   "execution_count": null,
   "metadata": {},
   "outputs": [],
   "source": []
  }
 ],
 "metadata": {
  "kernelspec": {
   "display_name": "Python 3",
   "language": "python",
   "name": "python3"
  },
  "language_info": {
   "codemirror_mode": {
    "name": "ipython",
    "version": 3
   },
   "file_extension": ".py",
   "mimetype": "text/x-python",
   "name": "python",
   "nbconvert_exporter": "python",
   "pygments_lexer": "ipython3",
   "version": "3.7.7"
  }
 },
 "nbformat": 4,
 "nbformat_minor": 4
}
